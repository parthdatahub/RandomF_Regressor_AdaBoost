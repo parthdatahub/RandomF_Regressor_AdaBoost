{
 "cells": [
  {
   "cell_type": "markdown",
   "id": "c226be18",
   "metadata": {},
   "source": [
    "# Boosting"
   ]
  },
  {
   "cell_type": "code",
   "execution_count": null,
   "id": "d41dd296",
   "metadata": {},
   "outputs": [],
   "source": [
    "Sequential Approach.\n",
    "Converting weak learner to strong learner by giving higher weightage to the missclassified datapoints.\n",
    "\n",
    "1. Adaptive Boosting\n",
    "2. Gradient Boosting\n",
    "3. Extream Gradient Boosting\n",
    "4. Categorical Boosting"
   ]
  },
  {
   "cell_type": "markdown",
   "id": "d355134d",
   "metadata": {},
   "source": [
    "# Adaptive Boosting"
   ]
  },
  {
   "cell_type": "code",
   "execution_count": null,
   "id": "2dd3637a",
   "metadata": {},
   "outputs": [],
   "source": [
    "Random Forest:\n",
    "    It is the collection of Decision trees.\n",
    "    \n",
    "AdaBoost:\n",
    "    It is the collection of Decision stumps.\n",
    "    \n",
    "Decision Stumps:\n",
    "    A tree with just one root node and two leaf nodes."
   ]
  },
  {
   "cell_type": "markdown",
   "id": "7b9c1301",
   "metadata": {},
   "source": [
    "## Calculations on Dataset"
   ]
  },
  {
   "cell_type": "code",
   "execution_count": null,
   "id": "a969a6fa",
   "metadata": {},
   "outputs": [],
   "source": [
    "Heart Dataset\n",
    "Features:\n",
    "    x1 >> Chest Pain (Categorical)\n",
    "    x2 >> Blocked Arteries (Categorical)\n",
    "    x3 >> Height (Continous)\n",
    "    Y  >> Heart Disease (Categorical)\n",
    "    \n",
    "     x1     x2     x3    Target    Sample Weight       NSW      Normalized SW    Bucket\n",
    "        \n",
    "1    Y      Y      187     Y          1/8             0.0472      0.071        0 to 0.071\n",
    "2    N      Y      181     Y          1/8             0.0472      0.071        0.071 to 0.142\n",
    "3    Y      N      195     Y          1/8             0.0472      0.071        0.142 to 0.213\n",
    "4    Y      Y      165     Y          1/8 (miss clf)  0.3307      0.500        0.213 to 0.713   # Maximum range\n",
    "5    N      Y      155     N          1/8             0.0472      0.071        0.713 to 0.784\n",
    "6    N      Y      138     N          1/8             0.0472      0.071        0.784 to 0.855\n",
    "7    Y      N      169     N          1/8             0.0472      0.071        0.855 to 0.926\n",
    "8    Y      Y      174     N          1/8             0.0472      0.071        0.926 to 1.0\n",
    "\n",
    "\n",
    "1. Find the sample weight:\n",
    "    \n",
    "    Sample Weight = 1/(Number of Samples)\n",
    "    \n",
    "GI for x1 = 0.4665\n",
    "GI for x2 = 0.5\n",
    "GI for x3 = 0.1999   --> Decision/Root for Stumps\n",
    "\n",
    "# Find GI of X3\n",
    "\n",
    "138  N\n",
    "155  N\n",
    "165  Y              GI\n",
    "169  N    167    = 0.4665\n",
    "174  N    171.5  = 0.375\n",
    "181  Y    177.5  = 0.1999   --> Best threshold selected\n",
    "187  Y\n",
    "195  Y\n",
    "\n",
    "Steps:\n",
    "    1. sort in ascending order\n",
    "    2. Find threshold \n",
    "    3. Find GI for each threshold\n",
    "    4. Select best thresh by selecting min GI\n",
    "    \n",
    "# 1. Find Total Eroor\n",
    "TE = Number of Missclassified Datapoints / Number of Samples\n",
    "TE = 1/8\n",
    "\n",
    "# 2. Find Performance of Model\n",
    "Performance = 0.5 * log([1 - TE]/TE)\n",
    "Performance = 0.9729\n",
    "\n",
    "# 3. New Sample Weight\n",
    "NSW_correct_clf = SW * e ^ - performance\n",
    "\n",
    "NSW_incorrect_clf = SW * e ^ + performance\n",
    "\n",
    "# 4. Normalized weight for NSW\n",
    "Normalized Weight = Single NSW / sum[NSW]"
   ]
  },
  {
   "cell_type": "markdown",
   "id": "223f147a",
   "metadata": {},
   "source": [
    "## For Dataset2 Creation"
   ]
  },
  {
   "cell_type": "code",
   "execution_count": 11,
   "id": "f0fa00b1",
   "metadata": {},
   "outputs": [
    {
     "data": {
      "text/plain": [
       "0    0.815380\n",
       "1    0.865984\n",
       "2    0.262543\n",
       "3    0.806192\n",
       "4    0.971623\n",
       "5    0.743519\n",
       "6    0.542635\n",
       "7    0.082024\n",
       "dtype: float64"
      ]
     },
     "execution_count": 11,
     "metadata": {},
     "output_type": "execute_result"
    }
   ],
   "source": [
    "# Create Random Values in between 0 to 1\n",
    "# = No of rows in dataset\n",
    "import pandas as pd\n",
    "\n",
    "pd.Series(np.random.random(8))\n",
    "\n",
    "    Random Weights    x1     x2     x3    Target   Row Number\n",
    "0    0.423499         Y      Y      165     Y         4\n",
    "1    0.855501         Y      N      169     N         7\n",
    "2    0.497983         Y      Y      165     Y         4\n",
    "3    0.140172         N      Y      181     Y         2\n",
    "4    0.933622         Y      Y      174     N         8\n",
    "5    0.724522         N      Y      155     N         5\n",
    "6    0.638419         Y      Y      165     Y         4\n",
    "7    0.265257         Y      Y      165     Y         4"
   ]
  },
  {
   "cell_type": "code",
   "execution_count": null,
   "id": "a6ddc7e7",
   "metadata": {},
   "outputs": [],
   "source": []
  },
  {
   "cell_type": "code",
   "execution_count": 1,
   "id": "c257d86b",
   "metadata": {},
   "outputs": [
    {
     "data": {
      "text/plain": [
       "0.9729550745276566"
      ]
     },
     "execution_count": 1,
     "metadata": {},
     "output_type": "execute_result"
    }
   ],
   "source": [
    "# Performance\n",
    "import numpy as np\n",
    "\n",
    "0.5 * np.log(7)"
   ]
  },
  {
   "cell_type": "code",
   "execution_count": 2,
   "id": "b0fd3239",
   "metadata": {},
   "outputs": [
    {
     "data": {
      "text/plain": [
       "0.125"
      ]
     },
     "execution_count": 2,
     "metadata": {},
     "output_type": "execute_result"
    }
   ],
   "source": [
    "1/8"
   ]
  },
  {
   "cell_type": "code",
   "execution_count": 3,
   "id": "388e897b",
   "metadata": {},
   "outputs": [
    {
     "data": {
      "text/plain": [
       "0.04724816122466017"
      ]
     },
     "execution_count": 3,
     "metadata": {},
     "output_type": "execute_result"
    }
   ],
   "source": [
    "NSW_correct = 0.125 * np.exp(-0.9729)\n",
    "NSW_correct"
   ]
  },
  {
   "cell_type": "code",
   "execution_count": 4,
   "id": "b181fa18",
   "metadata": {},
   "outputs": [
    {
     "data": {
      "text/plain": [
       "0.33070070019666425"
      ]
     },
     "execution_count": 4,
     "metadata": {},
     "output_type": "execute_result"
    }
   ],
   "source": [
    "NSW_incorrect = 0.125 * np.exp(0.9729)\n",
    "NSW_incorrect"
   ]
  },
  {
   "cell_type": "code",
   "execution_count": 5,
   "id": "5e126542",
   "metadata": {},
   "outputs": [
    {
     "data": {
      "text/plain": [
       "0.6611"
      ]
     },
     "execution_count": 5,
     "metadata": {},
     "output_type": "execute_result"
    }
   ],
   "source": [
    "0.0472 * 7 + 0.3307"
   ]
  },
  {
   "cell_type": "code",
   "execution_count": 6,
   "id": "3b55519f",
   "metadata": {},
   "outputs": [
    {
     "data": {
      "text/plain": [
       "0.07139615791862047"
      ]
     },
     "execution_count": 6,
     "metadata": {},
     "output_type": "execute_result"
    }
   ],
   "source": [
    "# Make the NSW normalize --> Correctly classified datapoint\n",
    "0.0472/0.6611"
   ]
  },
  {
   "cell_type": "code",
   "execution_count": 7,
   "id": "39c3e002",
   "metadata": {},
   "outputs": [
    {
     "data": {
      "text/plain": [
       "0.5002268945696566"
      ]
     },
     "execution_count": 7,
     "metadata": {},
     "output_type": "execute_result"
    }
   ],
   "source": [
    "# Make the NSW normalize --> InCorrectly classified datapoint\n",
    "0.3307/0.6611"
   ]
  },
  {
   "cell_type": "code",
   "execution_count": 9,
   "id": "1c6cd593",
   "metadata": {},
   "outputs": [
    {
     "data": {
      "text/plain": [
       "1.0"
      ]
     },
     "execution_count": 9,
     "metadata": {},
     "output_type": "execute_result"
    }
   ],
   "source": [
    "0.07139615791862047 * 7 + 0.5002268945696566"
   ]
  },
  {
   "cell_type": "code",
   "execution_count": 1,
   "id": "4b2fd335",
   "metadata": {},
   "outputs": [
    {
     "data": {
      "text/plain": [
       "0.48"
      ]
     },
     "execution_count": 1,
     "metadata": {},
     "output_type": "execute_result"
    }
   ],
   "source": [
    "1 - ((3/5) ** 2 + (2/5) ** 2)"
   ]
  },
  {
   "cell_type": "code",
   "execution_count": 7,
   "id": "9c125e1a",
   "metadata": {},
   "outputs": [
    {
     "data": {
      "text/plain": [
       "0.31999999999999984"
      ]
     },
     "execution_count": 7,
     "metadata": {},
     "output_type": "execute_result"
    }
   ],
   "source": [
    "1 - ((1/5) ** 2 + (4/5) ** 2)"
   ]
  },
  {
   "cell_type": "code",
   "execution_count": 6,
   "id": "22d05842",
   "metadata": {},
   "outputs": [
    {
     "data": {
      "text/plain": [
       "0.375"
      ]
     },
     "execution_count": 6,
     "metadata": {},
     "output_type": "execute_result"
    }
   ],
   "source": [
    "(4/8) * 0.375 + ((4/8) * 0.375)"
   ]
  },
  {
   "cell_type": "code",
   "execution_count": 8,
   "id": "ab3a96c9",
   "metadata": {},
   "outputs": [
    {
     "data": {
      "text/plain": [
       "0.1999999999999999"
      ]
     },
     "execution_count": 8,
     "metadata": {},
     "output_type": "execute_result"
    }
   ],
   "source": [
    "5/8 * 0.31999999999999984"
   ]
  },
  {
   "cell_type": "code",
   "execution_count": null,
   "id": "1fdca03e",
   "metadata": {},
   "outputs": [],
   "source": []
  }
 ],
 "metadata": {
  "kernelspec": {
   "display_name": "Python 3 (ipykernel)",
   "language": "python",
   "name": "python3"
  },
  "language_info": {
   "codemirror_mode": {
    "name": "ipython",
    "version": 3
   },
   "file_extension": ".py",
   "mimetype": "text/x-python",
   "name": "python",
   "nbconvert_exporter": "python",
   "pygments_lexer": "ipython3",
   "version": "3.11.0"
  }
 },
 "nbformat": 4,
 "nbformat_minor": 5
}
