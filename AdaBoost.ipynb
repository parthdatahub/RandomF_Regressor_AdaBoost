{
 "cells": [
  {
   "cell_type": "markdown",
   "id": "c226be18",
   "metadata": {},
   "source": [
    "# Boosting"
   ]
  },
  {
   "cell_type": "code",
   "execution_count": null,
   "id": "d41dd296",
   "metadata": {},
   "outputs": [],
   "source": [
    "Sequential Approach.\n",
    "Converting weak learner to strong learner by giving higher weightage to the missclassified datapoints.\n",
    "\n",
    "1. Adaptive Boosting\n",
    "2. Gradient Boosting\n",
    "3. Extream Gradient Boosting\n",
    "4. Categorical Boosting"
   ]
  },
  {
   "cell_type": "markdown",
   "id": "d355134d",
   "metadata": {},
   "source": [
    "# Adaptive Boosting"
   ]
  },
  {
   "cell_type": "code",
   "execution_count": null,
   "id": "2dd3637a",
   "metadata": {},
   "outputs": [],
   "source": [
    "Random Forest:\n",
    "    It is the collection of Decision trees.\n",
    "    \n",
    "AdaBoost:\n",
    "    It is the collection of Decision stumps.\n",
    "    \n",
    "Decision Stumps:\n",
    "    A tree with just one root node and two leaf nodes."
   ]
  },
  {
   "cell_type": "markdown",
   "id": "7b9c1301",
   "metadata": {},
   "source": [
    "## Calculations on Dataset"
   ]
  },
  {
   "cell_type": "code",
   "execution_count": null,
   "id": "a969a6fa",
   "metadata": {},
   "outputs": [],
   "source": [
    "Heart Dataset\n",
    "Features:\n",
    "    x1 >> Chest Pain (Categorical)\n",
    "    x2 >> Blocked Arteries (Categorical)\n",
    "    x3 >> Height (Continous)\n",
    "    Y  >> Heart Disease (Categorical)\n",
    "    \n",
    "     x1     x2     x3    Target    Sample Weight\n",
    "        \n",
    "1    Y      Y      187     Y          1/8\n",
    "2    N      Y      181     Y          1/8\n",
    "3    Y      N      195     Y          1/8\n",
    "4    Y      Y      165     Y          1/8 (miss classified)\n",
    "5    N      Y      155     N          1/8\n",
    "6    N      Y      138     N          1/8\n",
    "7    Y      N      169     N          1/8\n",
    "8    Y      Y      174     N          1/8\n",
    "\n",
    "\n",
    "1. Find the sample weight:\n",
    "    \n",
    "    Sample Weight = 1/(Number of Samples)\n",
    "    \n",
    "GI for x1 = 0.4665\n",
    "GI for x2 = 0.5\n",
    "GI for x3 = 0.1999   --> Decision/Root for Stumps\n",
    "\n",
    "# Find GI of X3\n",
    "\n",
    "138  N\n",
    "155  N\n",
    "165  Y              GI\n",
    "169  N    167    = 0.4665\n",
    "174  N    171.5  = 0.375\n",
    "181  Y    177.5  = 0.1999   --> Best threshold selected\n",
    "187  Y\n",
    "195  Y\n",
    "\n",
    "Steps:\n",
    "    1. sort in ascending order\n",
    "    2. Find threshold \n",
    "    3. Find GI for each threshold\n",
    "    4. Select best thresh by selecting min GI"
   ]
  },
  {
   "cell_type": "code",
   "execution_count": 1,
   "id": "4b2fd335",
   "metadata": {},
   "outputs": [
    {
     "data": {
      "text/plain": [
       "0.48"
      ]
     },
     "execution_count": 1,
     "metadata": {},
     "output_type": "execute_result"
    }
   ],
   "source": [
    "1 - ((3/5) ** 2 + (2/5) ** 2)"
   ]
  },
  {
   "cell_type": "code",
   "execution_count": 7,
   "id": "9c125e1a",
   "metadata": {},
   "outputs": [
    {
     "data": {
      "text/plain": [
       "0.31999999999999984"
      ]
     },
     "execution_count": 7,
     "metadata": {},
     "output_type": "execute_result"
    }
   ],
   "source": [
    "1 - ((1/5) ** 2 + (4/5) ** 2)"
   ]
  },
  {
   "cell_type": "code",
   "execution_count": 6,
   "id": "22d05842",
   "metadata": {},
   "outputs": [
    {
     "data": {
      "text/plain": [
       "0.375"
      ]
     },
     "execution_count": 6,
     "metadata": {},
     "output_type": "execute_result"
    }
   ],
   "source": [
    "(4/8) * 0.375 + ((4/8) * 0.375)"
   ]
  },
  {
   "cell_type": "code",
   "execution_count": 8,
   "id": "ab3a96c9",
   "metadata": {},
   "outputs": [
    {
     "data": {
      "text/plain": [
       "0.1999999999999999"
      ]
     },
     "execution_count": 8,
     "metadata": {},
     "output_type": "execute_result"
    }
   ],
   "source": [
    "5/8 * 0.31999999999999984"
   ]
  },
  {
   "cell_type": "code",
   "execution_count": null,
   "id": "1fdca03e",
   "metadata": {},
   "outputs": [],
   "source": []
  }
 ],
 "metadata": {
  "kernelspec": {
   "display_name": "Python 3 (ipykernel)",
   "language": "python",
   "name": "python3"
  },
  "language_info": {
   "codemirror_mode": {
    "name": "ipython",
    "version": 3
   },
   "file_extension": ".py",
   "mimetype": "text/x-python",
   "name": "python",
   "nbconvert_exporter": "python",
   "pygments_lexer": "ipython3",
   "version": "3.11.0"
  }
 },
 "nbformat": 4,
 "nbformat_minor": 5
}
